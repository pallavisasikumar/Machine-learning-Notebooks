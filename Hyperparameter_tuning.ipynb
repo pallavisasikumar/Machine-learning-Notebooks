{
 "cells": [
  {
   "cell_type": "code",
   "execution_count": 1,
   "id": "8fd15420",
   "metadata": {},
   "outputs": [],
   "source": [
    "import pandas as pd\n",
    "from sklearn.svm import SVC\n",
    "from sklearn.datasets import load_iris\n",
    "from sklearn.model_selection import GridSearchCV\n",
    "\n",
    "\n",
    "import warnings \n",
    "warnings.filterwarnings ('ignore')"
   ]
  },
  {
   "cell_type": "code",
   "execution_count": 2,
   "id": "dae122cb",
   "metadata": {},
   "outputs": [],
   "source": [
    "iris=load_iris()"
   ]
  },
  {
   "cell_type": "code",
   "execution_count": 3,
   "id": "3b4d43be",
   "metadata": {},
   "outputs": [],
   "source": [
    "svc_model=SVC()"
   ]
  },
  {
   "cell_type": "code",
   "execution_count": 4,
   "id": "f5c2ed60",
   "metadata": {},
   "outputs": [],
   "source": [
    "gscv=GridSearchCV(svc_model,{'gamma':['auto','scale'],'C':[1,5,10,20],\n",
    "                            'kernel':['linear','rbf','poly','sigmoid']},\n",
    "                 cv=5,return_train_score=True)"
   ]
  },
  {
   "cell_type": "code",
   "execution_count": 5,
   "id": "12570d1e",
   "metadata": {},
   "outputs": [
    {
     "data": {
      "text/plain": [
       "GridSearchCV(cv=5, estimator=SVC(),\n",
       "             param_grid={'C': [1, 5, 10, 20], 'gamma': ['auto', 'scale'],\n",
       "                         'kernel': ['linear', 'rbf', 'poly', 'sigmoid']},\n",
       "             return_train_score=True)"
      ]
     },
     "execution_count": 5,
     "metadata": {},
     "output_type": "execute_result"
    }
   ],
   "source": [
    "gscv.fit(iris.data,iris.target)"
   ]
  },
  {
   "cell_type": "code",
   "execution_count": 6,
   "id": "ca9f8c4c",
   "metadata": {},
   "outputs": [],
   "source": [
    "gs_data=gscv.cv_results_"
   ]
  },
  {
   "cell_type": "code",
   "execution_count": 7,
   "id": "1d553279",
   "metadata": {},
   "outputs": [],
   "source": [
    "data=pd.DataFrame(gs_data)"
   ]
  },
  {
   "cell_type": "code",
   "execution_count": 8,
   "id": "4992dc5b",
   "metadata": {},
   "outputs": [
    {
     "data": {
      "text/html": [
       "<div>\n",
       "<style scoped>\n",
       "    .dataframe tbody tr th:only-of-type {\n",
       "        vertical-align: middle;\n",
       "    }\n",
       "\n",
       "    .dataframe tbody tr th {\n",
       "        vertical-align: top;\n",
       "    }\n",
       "\n",
       "    .dataframe thead th {\n",
       "        text-align: right;\n",
       "    }\n",
       "</style>\n",
       "<table border=\"1\" class=\"dataframe\">\n",
       "  <thead>\n",
       "    <tr style=\"text-align: right;\">\n",
       "      <th></th>\n",
       "      <th>mean_fit_time</th>\n",
       "      <th>std_fit_time</th>\n",
       "      <th>mean_score_time</th>\n",
       "      <th>std_score_time</th>\n",
       "      <th>param_C</th>\n",
       "      <th>param_gamma</th>\n",
       "      <th>param_kernel</th>\n",
       "      <th>params</th>\n",
       "      <th>split0_test_score</th>\n",
       "      <th>split1_test_score</th>\n",
       "      <th>...</th>\n",
       "      <th>mean_test_score</th>\n",
       "      <th>std_test_score</th>\n",
       "      <th>rank_test_score</th>\n",
       "      <th>split0_train_score</th>\n",
       "      <th>split1_train_score</th>\n",
       "      <th>split2_train_score</th>\n",
       "      <th>split3_train_score</th>\n",
       "      <th>split4_train_score</th>\n",
       "      <th>mean_train_score</th>\n",
       "      <th>std_train_score</th>\n",
       "    </tr>\n",
       "  </thead>\n",
       "  <tbody>\n",
       "    <tr>\n",
       "      <th>0</th>\n",
       "      <td>0.000811</td>\n",
       "      <td>0.000153</td>\n",
       "      <td>0.000567</td>\n",
       "      <td>0.000561</td>\n",
       "      <td>1</td>\n",
       "      <td>auto</td>\n",
       "      <td>linear</td>\n",
       "      <td>{'C': 1, 'gamma': 'auto', 'kernel': 'linear'}</td>\n",
       "      <td>0.966667</td>\n",
       "      <td>1.0</td>\n",
       "      <td>...</td>\n",
       "      <td>0.980000</td>\n",
       "      <td>0.016330</td>\n",
       "      <td>2</td>\n",
       "      <td>0.975000</td>\n",
       "      <td>0.975000</td>\n",
       "      <td>0.991667</td>\n",
       "      <td>0.983333</td>\n",
       "      <td>0.983333</td>\n",
       "      <td>0.981667</td>\n",
       "      <td>0.006236</td>\n",
       "    </tr>\n",
       "    <tr>\n",
       "      <th>1</th>\n",
       "      <td>0.001277</td>\n",
       "      <td>0.000395</td>\n",
       "      <td>0.000592</td>\n",
       "      <td>0.000483</td>\n",
       "      <td>1</td>\n",
       "      <td>auto</td>\n",
       "      <td>rbf</td>\n",
       "      <td>{'C': 1, 'gamma': 'auto', 'kernel': 'rbf'}</td>\n",
       "      <td>0.966667</td>\n",
       "      <td>1.0</td>\n",
       "      <td>...</td>\n",
       "      <td>0.980000</td>\n",
       "      <td>0.016330</td>\n",
       "      <td>2</td>\n",
       "      <td>0.983333</td>\n",
       "      <td>0.983333</td>\n",
       "      <td>0.991667</td>\n",
       "      <td>0.983333</td>\n",
       "      <td>0.975000</td>\n",
       "      <td>0.983333</td>\n",
       "      <td>0.005270</td>\n",
       "    </tr>\n",
       "    <tr>\n",
       "      <th>2</th>\n",
       "      <td>0.001397</td>\n",
       "      <td>0.001017</td>\n",
       "      <td>0.000400</td>\n",
       "      <td>0.000490</td>\n",
       "      <td>1</td>\n",
       "      <td>auto</td>\n",
       "      <td>poly</td>\n",
       "      <td>{'C': 1, 'gamma': 'auto', 'kernel': 'poly'}</td>\n",
       "      <td>1.000000</td>\n",
       "      <td>1.0</td>\n",
       "      <td>...</td>\n",
       "      <td>0.966667</td>\n",
       "      <td>0.042164</td>\n",
       "      <td>15</td>\n",
       "      <td>0.975000</td>\n",
       "      <td>0.975000</td>\n",
       "      <td>0.991667</td>\n",
       "      <td>1.000000</td>\n",
       "      <td>0.975000</td>\n",
       "      <td>0.983333</td>\n",
       "      <td>0.010541</td>\n",
       "    </tr>\n",
       "    <tr>\n",
       "      <th>3</th>\n",
       "      <td>0.001601</td>\n",
       "      <td>0.000490</td>\n",
       "      <td>0.000200</td>\n",
       "      <td>0.000400</td>\n",
       "      <td>1</td>\n",
       "      <td>auto</td>\n",
       "      <td>sigmoid</td>\n",
       "      <td>{'C': 1, 'gamma': 'auto', 'kernel': 'sigmoid'}</td>\n",
       "      <td>0.333333</td>\n",
       "      <td>0.1</td>\n",
       "      <td>...</td>\n",
       "      <td>0.093333</td>\n",
       "      <td>0.125433</td>\n",
       "      <td>25</td>\n",
       "      <td>0.333333</td>\n",
       "      <td>0.016667</td>\n",
       "      <td>0.050000</td>\n",
       "      <td>0.041667</td>\n",
       "      <td>0.050000</td>\n",
       "      <td>0.098333</td>\n",
       "      <td>0.118134</td>\n",
       "    </tr>\n",
       "    <tr>\n",
       "      <th>4</th>\n",
       "      <td>0.000599</td>\n",
       "      <td>0.000489</td>\n",
       "      <td>0.000200</td>\n",
       "      <td>0.000400</td>\n",
       "      <td>1</td>\n",
       "      <td>scale</td>\n",
       "      <td>linear</td>\n",
       "      <td>{'C': 1, 'gamma': 'scale', 'kernel': 'linear'}</td>\n",
       "      <td>0.966667</td>\n",
       "      <td>1.0</td>\n",
       "      <td>...</td>\n",
       "      <td>0.980000</td>\n",
       "      <td>0.016330</td>\n",
       "      <td>2</td>\n",
       "      <td>0.975000</td>\n",
       "      <td>0.975000</td>\n",
       "      <td>0.991667</td>\n",
       "      <td>0.983333</td>\n",
       "      <td>0.983333</td>\n",
       "      <td>0.981667</td>\n",
       "      <td>0.006236</td>\n",
       "    </tr>\n",
       "  </tbody>\n",
       "</table>\n",
       "<p>5 rows × 23 columns</p>\n",
       "</div>"
      ],
      "text/plain": [
       "   mean_fit_time  std_fit_time  mean_score_time  std_score_time param_C  \\\n",
       "0       0.000811      0.000153         0.000567        0.000561       1   \n",
       "1       0.001277      0.000395         0.000592        0.000483       1   \n",
       "2       0.001397      0.001017         0.000400        0.000490       1   \n",
       "3       0.001601      0.000490         0.000200        0.000400       1   \n",
       "4       0.000599      0.000489         0.000200        0.000400       1   \n",
       "\n",
       "  param_gamma param_kernel                                          params  \\\n",
       "0        auto       linear   {'C': 1, 'gamma': 'auto', 'kernel': 'linear'}   \n",
       "1        auto          rbf      {'C': 1, 'gamma': 'auto', 'kernel': 'rbf'}   \n",
       "2        auto         poly     {'C': 1, 'gamma': 'auto', 'kernel': 'poly'}   \n",
       "3        auto      sigmoid  {'C': 1, 'gamma': 'auto', 'kernel': 'sigmoid'}   \n",
       "4       scale       linear  {'C': 1, 'gamma': 'scale', 'kernel': 'linear'}   \n",
       "\n",
       "   split0_test_score  split1_test_score  ...  mean_test_score  std_test_score  \\\n",
       "0           0.966667                1.0  ...         0.980000        0.016330   \n",
       "1           0.966667                1.0  ...         0.980000        0.016330   \n",
       "2           1.000000                1.0  ...         0.966667        0.042164   \n",
       "3           0.333333                0.1  ...         0.093333        0.125433   \n",
       "4           0.966667                1.0  ...         0.980000        0.016330   \n",
       "\n",
       "   rank_test_score  split0_train_score  split1_train_score  \\\n",
       "0                2            0.975000            0.975000   \n",
       "1                2            0.983333            0.983333   \n",
       "2               15            0.975000            0.975000   \n",
       "3               25            0.333333            0.016667   \n",
       "4                2            0.975000            0.975000   \n",
       "\n",
       "   split2_train_score  split3_train_score  split4_train_score  \\\n",
       "0            0.991667            0.983333            0.983333   \n",
       "1            0.991667            0.983333            0.975000   \n",
       "2            0.991667            1.000000            0.975000   \n",
       "3            0.050000            0.041667            0.050000   \n",
       "4            0.991667            0.983333            0.983333   \n",
       "\n",
       "   mean_train_score  std_train_score  \n",
       "0          0.981667         0.006236  \n",
       "1          0.983333         0.005270  \n",
       "2          0.983333         0.010541  \n",
       "3          0.098333         0.118134  \n",
       "4          0.981667         0.006236  \n",
       "\n",
       "[5 rows x 23 columns]"
      ]
     },
     "execution_count": 8,
     "metadata": {},
     "output_type": "execute_result"
    }
   ],
   "source": [
    "data.head()"
   ]
  },
  {
   "cell_type": "code",
   "execution_count": 9,
   "id": "772b38c8",
   "metadata": {},
   "outputs": [
    {
     "data": {
      "text/plain": [
       "{'C': 5, 'gamma': 'scale', 'kernel': 'rbf'}"
      ]
     },
     "execution_count": 9,
     "metadata": {},
     "output_type": "execute_result"
    }
   ],
   "source": [
    "gscv.best_params_"
   ]
  },
  {
   "cell_type": "code",
   "execution_count": 10,
   "id": "0cb888d5",
   "metadata": {},
   "outputs": [
    {
     "data": {
      "text/plain": [
       "0.9866666666666667"
      ]
     },
     "execution_count": 10,
     "metadata": {},
     "output_type": "execute_result"
    }
   ],
   "source": [
    "gscv.best_score_"
   ]
  },
  {
   "cell_type": "code",
   "execution_count": 11,
   "id": "f40e35ea",
   "metadata": {},
   "outputs": [],
   "source": [
    "from sklearn.svm import SVC\n",
    "from sklearn.ensemble import RandomForestClassifier\n",
    "from sklearn.linear_model import LogisticRegression"
   ]
  },
  {
   "cell_type": "code",
   "execution_count": 13,
   "id": "65f59e91",
   "metadata": {},
   "outputs": [],
   "source": [
    "model_params={'svm':{'model':SVC(gamma='auto'),'params':{'C':[1,10,20],'kernel':['rbf','linear']}},\n",
    "             'random_forest':{'model':RandomForestClassifier(),'params':{'n_estimators':[1,5,10]}},\n",
    "             'logistic_regression':{'model':LogisticRegression(),'params':{'C':[1,5,10]}}}"
   ]
  },
  {
   "cell_type": "code",
   "execution_count": 15,
   "id": "ea93f51c",
   "metadata": {},
   "outputs": [],
   "source": [
    "scores=[]\n",
    "models=['svm','random_forest','logistic_regression']\n",
    "for model_name in models: #model_name='svm'\n",
    "    mp=model_params[model_name]\n",
    "    #mp={'model':SVC(gamma='auto'),'params':{'C':[1,10,20],'kernel':['rbf','linear']}}\n",
    "    gds=GridSearchCV(mp['model'],mp['params'],cv=5,return_train_score=True)\n",
    "    gds.fit(iris.data,iris.target)\n",
    "    scores.append ({'model':model_name,'best_score':gds.best_score_,'best_params':gds.best_params_})"
   ]
  },
  {
   "cell_type": "code",
   "execution_count": 16,
   "id": "ed7a8706",
   "metadata": {},
   "outputs": [
    {
     "data": {
      "text/plain": [
       "[{'model': 'svm',\n",
       "  'best_score': 0.9800000000000001,\n",
       "  'best_params': {'C': 1, 'kernel': 'rbf'}},\n",
       " {'model': 'random_forest',\n",
       "  'best_score': 0.96,\n",
       "  'best_params': {'n_estimators': 5}},\n",
       " {'model': 'logistic_regression',\n",
       "  'best_score': 0.9800000000000001,\n",
       "  'best_params': {'C': 10}}]"
      ]
     },
     "execution_count": 16,
     "metadata": {},
     "output_type": "execute_result"
    }
   ],
   "source": [
    "scores"
   ]
  },
  {
   "cell_type": "code",
   "execution_count": null,
   "id": "f13d5f44",
   "metadata": {},
   "outputs": [],
   "source": []
  }
 ],
 "metadata": {
  "kernelspec": {
   "display_name": "Python 3 (ipykernel)",
   "language": "python",
   "name": "python3"
  },
  "language_info": {
   "codemirror_mode": {
    "name": "ipython",
    "version": 3
   },
   "file_extension": ".py",
   "mimetype": "text/x-python",
   "name": "python",
   "nbconvert_exporter": "python",
   "pygments_lexer": "ipython3",
   "version": "3.9.12"
  }
 },
 "nbformat": 4,
 "nbformat_minor": 5
}
